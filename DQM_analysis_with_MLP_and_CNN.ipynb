{
 "cells": [
  {
   "cell_type": "code",
   "execution_count": 1,
   "id": "d5971313",
   "metadata": {},
   "outputs": [],
   "source": [
    "from pettingzoo.classic import connect_four_v3"
   ]
  },
  {
   "cell_type": "code",
   "execution_count": 2,
   "id": "52fb4be3",
   "metadata": {},
   "outputs": [],
   "source": [
    "import numpy as np\n",
    "import matplotlib.pyplot as plt\n",
    "\n",
    "import os\n",
    "os.environ[\"SDL_VIDEODRIVER\"] = \"dummy\"\n",
    "from IPython.display import clear_output"
   ]
  },
  {
   "attachments": {},
   "cell_type": "markdown",
   "id": "cd69e510",
   "metadata": {},
   "source": [
    "# Using the PettingZoo environment\n",
    "\n",
    "This notebook provides smalls chunks of code to get you started with the Connect4 project. You do not have to use this code in you final file, but you can if you wish to. "
   ]
  },
  {
   "cell_type": "code",
   "execution_count": 3,
   "id": "abc87362",
   "metadata": {},
   "outputs": [
    {
     "name": "stdout",
     "output_type": "stream",
     "text": [
      "(6, 7, 2)\n",
      "[[0 0 0 0 0 0 0]\n",
      " [0 0 0 0 0 0 0]\n",
      " [0 0 0 0 0 0 0]\n",
      " [0 0 0 0 0 0 0]\n",
      " [0 0 0 0 0 0 0]\n",
      " [0 0 0 0 0 0 0]]\n",
      "[[0 0 0 0 0 0 0]\n",
      " [0 0 0 0 0 0 0]\n",
      " [0 0 0 0 0 0 0]\n",
      " [0 0 0 0 0 0 0]\n",
      " [0 0 0 0 0 0 0]\n",
      " [0 0 0 0 0 0 0]]\n",
      "[1 1 1 1 1 1 1]\n"
     ]
    }
   ],
   "source": [
    "env = connect_four_v3.env(render_mode=\"rgb_array\")\n",
    "\n",
    "env.reset()\n",
    "\n",
    "# The main difference with the standard gym api is the way the environment is queried. The `step` method return `None`. To get the data on the environment, use the `last` method\n",
    "state, reward, terminated, truncated, info = env.last()\n",
    "\n",
    "# state is a dictionary with two keys: observation and action_mask\n",
    "print(\n",
    "    state[\"observation\"].shape\n",
    ")  # Observation is a numpy array with three coordinates, indicating the positions of the pieces of of player 0 and 1 on the the board\n",
    "print(state[\"observation\"][:, :, 0])  # Where the pieces of player 0 are\n",
    "print(state[\"observation\"][:, :, 1])  # Where the pieces of player 1 are\n",
    "\n",
    "print(state[\"action_mask\"])  # an array showing whether the actions are legal or nots\n"
   ]
  },
  {
   "attachments": {},
   "cell_type": "markdown",
   "id": "92f5bcdf",
   "metadata": {},
   "source": [
    "# Agents\n",
    "\n",
    "Here are some implementations of trivial agents that you should be able to beat ultimately. "
   ]
  },
  {
   "cell_type": "code",
   "execution_count": 4,
   "id": "12f7e8d3",
   "metadata": {},
   "outputs": [],
   "source": [
    "class RandomPlayer:\n",
    "    def __init__(self, rng=None):\n",
    "        if rng is None:\n",
    "            self.rng = np.random.default_rng()\n",
    "        else:\n",
    "            self.rng = rng\n",
    "\n",
    "        self.name = \"Random Player\"\n",
    "\n",
    "    def get_action(self, obs_mask, epsilon=None):\n",
    "        return self.random_choice_with_mask(np.arange(7), obs_mask[\"action_mask\"])\n",
    "\n",
    "    def random_choice_with_mask(self, arr, mask):\n",
    "        masked_arr = np.ma.masked_array(arr, mask=1 - mask)\n",
    "        if masked_arr.count() == 0:\n",
    "            return None\n",
    "        return self.rng.choice(masked_arr.compressed())\n"
   ]
  },
  {
   "cell_type": "code",
   "execution_count": 5,
   "id": "dfcac1b4",
   "metadata": {},
   "outputs": [],
   "source": [
    "class PlayLeftmostLegal:\n",
    "    def __init__(self):\n",
    "        self.name = \"Left Player\"\n",
    "\n",
    "    def get_action(self, obs_mask, epsilon=None):\n",
    "        for i, legal in enumerate(obs_mask[\"action_mask\"]):\n",
    "            if legal:\n",
    "                return i\n",
    "        return None\n"
   ]
  },
  {
   "attachments": {},
   "cell_type": "markdown",
   "id": "1f4fdf7e",
   "metadata": {},
   "source": [
    "# Running a game\n",
    "\n",
    "\n",
    "The following function runs a full game between the two agents. "
   ]
  },
  {
   "cell_type": "code",
   "execution_count": 6,
   "id": "7ff5ca49",
   "metadata": {},
   "outputs": [],
   "source": [
    "def play_game(env, agent0, agent1, display=False):\n",
    "    done = False\n",
    "    env.reset()\n",
    "    obs, _, _, _, _ = env.last()\n",
    "    while not done:\n",
    "        for i, agent in enumerate([agent0, agent1]):\n",
    "            action = agent.get_action(obs, epsilon=0)\n",
    "            env.step(action)\n",
    "            if display:\n",
    "                clear_output(wait=True)\n",
    "                plt.imshow(env.render())\n",
    "                plt.show()\n",
    "            obs, reward, terminated, _, _ = env.last()\n",
    "            done = terminated\n",
    "            if np.sum(obs[\"action_mask\"]) == 0:\n",
    "                if display: \n",
    "                    print('Draw')\n",
    "                return 0.5\n",
    "            if done:\n",
    "                if display:\n",
    "                    print(f\"Player {i}: {agent.name} won\")\n",
    "                    print(obs['observation'][:, :, 0]- obs['observation'][:, :, 1])\n",
    "                return i"
   ]
  },
  {
   "attachments": {},
   "cell_type": "markdown",
   "id": "173cc5af",
   "metadata": {},
   "source": [
    "# Emulating a Gym environment\n",
    "\n",
    "If we fix the opposite policy, the game from the point of view of the agent is equivalent to a Gym environment. The following class implements this simulation. Then any algorithm that would work in a gym environment with the same observations will work here. \n",
    "\n",
    "Note that we implemented the possibility to be the first or the second player. "
   ]
  },
  {
   "cell_type": "code",
   "execution_count": 7,
   "id": "a9a2406f",
   "metadata": {},
   "outputs": [],
   "source": [
    "class EnvAgainstPolicy: \n",
    "    def __init__(self, env, policy, first_player=True):\n",
    "        self.policy = policy\n",
    "        self.env = env\n",
    "        self.first_player = first_player\n",
    "        self.reset()\n",
    "\n",
    "    def step(self, action):\n",
    "        self.env.step(action)\n",
    "        obs, reward, terminated, _, _ = self.env.last()\n",
    "        if terminated: \n",
    "            self.last_step = obs, reward, True, False, {}\n",
    "        else: \n",
    "            action = self.policy.get_action(obs)\n",
    "            self.env.step(action)\n",
    "            obs, reward, terminated, _, _ = self.env.last()\n",
    "            self.last_step = obs, -reward, terminated, False, {}\n",
    "        return self.last_step\n",
    "\n",
    "    def reset(self):\n",
    "        self.env.reset()\n",
    "        if not(self.first_player): \n",
    "            obs, _, _, _, _ = self.env.last()\n",
    "            action = self.policy.get_action(obs)\n",
    "            self.env.step(action)\n",
    "\n",
    "        self.last_step = self.env.last()\n",
    "        return self.last_step\n",
    "\n",
    "    def last(self):\n",
    "        return self.last_step"
   ]
  },
  {
   "attachments": {},
   "cell_type": "markdown",
   "id": "3cb3fab1",
   "metadata": {},
   "source": [
    "# Evaluating an agent against a fixed policy: \n",
    "\n",
    "Using the environment above, we can evaluate the agent against this fixed policy. "
   ]
  },
  {
   "cell_type": "code",
   "execution_count": 8,
   "id": "607783c5",
   "metadata": {},
   "outputs": [],
   "source": [
    "def eval_against_policy(env, agent, policy, N_episodes=10, first_player=True):\n",
    "    eval_env = EnvAgainstPolicy(env, policy, first_player=first_player)\n",
    "    results = []\n",
    "    for _ in range(N_episodes):\n",
    "        done = False\n",
    "        eval_env.reset()\n",
    "        obs, _, _, _, _ = eval_env.last()\n",
    "        while not done:\n",
    "            action = agent.get_action(obs, epsilon=0)\n",
    "            eval_env.step(action)\n",
    "            obs, reward, done, _, _ = eval_env.last()\n",
    "        results.append(reward)\n",
    "    return results"
   ]
  },
  {
   "attachments": {},
   "cell_type": "markdown",
   "id": "da1790b4",
   "metadata": {},
   "source": [
    "We can see that if both players play randomly, there is a small but significant advantage to the first player. "
   ]
  },
  {
   "cell_type": "code",
   "execution_count": 9,
   "id": "38debdc5",
   "metadata": {},
   "outputs": [
    {
     "data": {
      "image/png": "[encoded data removed]",
      "text/plain": [
       "<Figure size 640x480 with 1 Axes>"
      ]
     },
     "metadata": {},
     "output_type": "display_data"
    },
    {
     "data": {
      "image/png": "[encoded data removed]",
      "text/plain": [
       "<Figure size 640x480 with 1 Axes>"
      ]
     },
     "metadata": {},
     "output_type": "display_data"
    }
   ],
   "source": [
    "plt.hist(eval_against_policy(env, RandomPlayer(), RandomPlayer(), N_episodes=1000, first_player=False))\n",
    "plt.show()\n",
    "plt.hist(eval_against_policy(env, RandomPlayer(), RandomPlayer(), N_episodes=1000, first_player=True))\n",
    "plt.show()"
   ]
  },
  {
   "attachments": {},
   "cell_type": "markdown",
   "id": "79580594",
   "metadata": {},
   "source": [
    "# Your turn \n",
    "\n",
    "Try to build a decent agent. Be creative! You can try any idea that you have: the grade is not about performance of the agent, but more about illustrating phenomena happening in Reinforcement Learning for turn-based games. It's okay to 'help' the agent in any way, as long as it follows the ideas of RL (i.e., as long as there is some learning involved).\n",
    "\n",
    "\n"
   ]
  },
  {
   "cell_type": "code",
   "execution_count": 10,
   "id": "4a625484",
   "metadata": {},
   "outputs": [],
   "source": [
    "import torch\n",
    "import random"
   ]
  },
  {
   "cell_type": "code",
   "execution_count": 11,
   "id": "cff553be",
   "metadata": {},
   "outputs": [],
   "source": [
    "class ReplayBuffer:\n",
    "    def __init__(self, capacity):\n",
    "        self.capacity = capacity\n",
    "        self.memory = []\n",
    "        self.position = 0\n",
    "\n",
    "    def push(self, state, action, reward, terminated, next_state):\n",
    "        \"\"\"Saves a transition.\"\"\"\n",
    "        if len(self.memory) < self.capacity:\n",
    "            self.memory.append(None)\n",
    "        self.memory[self.position] = (state, action, reward, terminated, next_state)\n",
    "        self.position = (self.position + 1) % self.capacity\n",
    "\n",
    "    def sample(self, batch_size):\n",
    "        return random.choices(self.memory, k=batch_size)\n",
    "\n",
    "    def __len__(self):\n",
    "        return len(self.memory)\n",
    "\n",
    "# create instance of replay buffer\n",
    "#replay_buffer = ReplayBuffer(BUFFER_CAPACITY)"
   ]
  },
  {
   "cell_type": "code",
   "execution_count": 12,
   "id": "c51c8431",
   "metadata": {},
   "outputs": [],
   "source": [
    "class Model(torch.torch.nn.Module):\n",
    "    def __init__(self, input_size, output_size = 7, n_hidden_layers=1, hidden_dim = 16):\n",
    "        super(Model, self).__init__()\n",
    "        self.input_size = input_size\n",
    "        \n",
    "        net = [torch.nn.Linear(input_size, hidden_dim), torch.nn.ReLU()]\n",
    "        net.extend([torch.nn.Linear(hidden_dim, hidden_dim), torch.nn.ReLU()] * n_hidden_layers)\n",
    "        net.append(torch.nn.Linear(hidden_dim, output_size))\n",
    "        net.append(torch.nn.Sigmoid())  #sigmoid is important as we will take the argmax with masking (values forced to 0), we don't want negative values\n",
    "\n",
    "        self.network = torch.nn.Sequential(*net)\n",
    "\n",
    "    def forward(self, x):\n",
    "        x = x.float().unsqueeze(0).view(-1, self.input_size)\n",
    "        return self.network(x)\n",
    "    \n",
    "class ModelCNN(torch.torch.nn.Module):\n",
    "    def __init__(self, input_size, output_size = 7, n_hidden_layers=1, hidden_dim = 4):\n",
    "        super(ModelCNN, self).__init__()\n",
    "        self.input_size = input_size\n",
    "        \n",
    "        net = [torch.nn.Conv2d(1, hidden_dim, kernel_size=3, stride=1, padding=1), torch.nn.ReLU()]\n",
    "        net.extend([torch.nn.Conv2d(hidden_dim, hidden_dim, kernel_size=3, stride=1, padding=1), torch.nn.ReLU()] * n_hidden_layers)\n",
    "\n",
    "        net.append(torch.nn.Flatten())\n",
    "        net.append(torch.nn.Linear(hidden_dim*input_size, output_size))\n",
    "        net.append(torch.nn.Sigmoid())  #sigmoid is important as we will take the argmax with masking (values forced to 0), we don't want negative values\n",
    "\n",
    "        self.network = torch.nn.Sequential(*net)\n",
    "\n",
    "    def forward(self, x):\n",
    "        if x.ndim == 2:\n",
    "            x = x.unsqueeze(0)\n",
    "        x = x.float().unsqueeze(1)\n",
    "        return self.network(x)"
   ]
  },
  {
   "cell_type": "code",
   "execution_count": 13,
   "id": "a9efede5",
   "metadata": {},
   "outputs": [],
   "source": [
    "class NotDumbAgent: \n",
    "    def __init__(self,\n",
    "                action_space,\n",
    "                observation_space,\n",
    "                gamma,\n",
    "                batch_size,\n",
    "                buffer_capacity,\n",
    "                update_target_every, \n",
    "                epsilon_start, \n",
    "                decrease_epsilon_factor, \n",
    "                epsilon_min,\n",
    "                learning_rate,\n",
    "                name, n_hidden_layers=1, hidden_dim = 16,\n",
    "                use_CNN = False \n",
    "                ): \n",
    "        self.action_space = action_space\n",
    "        self.observation_space = observation_space\n",
    "        self.gamma = gamma\n",
    "        \n",
    "        self.batch_size = batch_size\n",
    "        self.buffer_capacity = buffer_capacity\n",
    "        self.update_target_every = update_target_every\n",
    "        \n",
    "        self.epsilon_start = epsilon_start\n",
    "        self.decrease_epsilon_factor = decrease_epsilon_factor # larger -> more exploration\n",
    "        self.epsilon_min = epsilon_min\n",
    "        \n",
    "        self.learning_rate = learning_rate\n",
    "\n",
    "        self.name = name\n",
    "        self.n_hidden_layers = n_hidden_layers\n",
    "        self.hidden_dim = hidden_dim\n",
    "        self.use_CNN = use_CNN\n",
    "        \n",
    "        self.reset()\n",
    "        \n",
    "    def get_action(self, state, epsilon=None):\n",
    "        if epsilon is None and np.random.rand() < self.epsilon: \n",
    "            masked_arr = np.ma.masked_array(np.arange(7), mask=1 - state['action_mask'])\n",
    "            if masked_arr.count() == 0:\n",
    "                return None\n",
    "            return np.random.choice(masked_arr.compressed())\n",
    "        \n",
    "        output = self.get_q(state)\n",
    "        output *= state['action_mask']\n",
    "        return np.argmax(output)\n",
    "    \n",
    "        \n",
    "    \n",
    "    def update(self, state, action, reward, terminated, next_state):\n",
    "        \"\"\"\n",
    "        Updates the buffer and the network(s)\n",
    "        \"\"\"\n",
    "        # add data to replay buffer\n",
    "        self.buffer.push(torch.tensor(state['observation']).unsqueeze(0), \n",
    "                           torch.tensor([[action]], dtype=torch.int64), \n",
    "                           torch.tensor([reward]), \n",
    "                           torch.tensor([terminated], dtype=torch.int64), \n",
    "                           torch.tensor(next_state['observation']).unsqueeze(0),\n",
    "                          )\n",
    "\n",
    "        if len(self.buffer) < self.batch_size:\n",
    "            return np.inf\n",
    "\n",
    "        # get batch\n",
    "        transitions = self.buffer.sample(self.batch_size)\n",
    "\n",
    "        # Compute loss\n",
    "        state_batch, action_batch, reward_batch, terminated_batch, next_state_batch = tuple(\n",
    "            [torch.cat(data) for data in zip(*transitions)]\n",
    "        )\n",
    "\n",
    "        values  = self.q_net.forward(state_batch[..., 0] - state_batch[..., 1]).gather(1, action_batch)\n",
    "\n",
    "        # Compute the ideal Q values\n",
    "        with torch.no_grad():\n",
    "            next_state_values = (1 - terminated_batch) * self.target_net(next_state_batch[..., 0] - next_state_batch[..., 1]).max(1)[0]\n",
    "            targets = next_state_values * self.gamma + reward_batch\n",
    "\n",
    "        loss = self.loss_function(values, targets.unsqueeze(1))\n",
    "\n",
    "        # Optimize the model \n",
    "        self.optimizer.zero_grad()\n",
    "        loss.backward()\n",
    "        #torch.nn.utils.clip_grad_value_(self.q_net.parameters(), 100)\n",
    "        self.optimizer.step()\n",
    "        \n",
    "        if not((self.n_steps+1) % self.update_target_every): \n",
    "            self.target_net.load_state_dict(self.q_net.state_dict())\n",
    "            \n",
    "        self.decrease_epsilon()\n",
    "            \n",
    "        self.n_steps += 1\n",
    "        if terminated: \n",
    "            self.n_eps += 1\n",
    "\n",
    "        return loss.detach().numpy()\n",
    "    \n",
    "    def get_q(self, state):\n",
    "        \"\"\"\n",
    "        Compute Q function for a states\n",
    "        \"\"\"\n",
    "        input = torch.tensor(state['observation'][..., 0] - state['observation'][..., 1])\n",
    "        with torch.no_grad():\n",
    "            output = self.q_net(input).squeeze(0).numpy()\n",
    "        return output\n",
    "    \n",
    "    def decrease_epsilon(self):\n",
    "        self.epsilon = self.epsilon_min + (self.epsilon_start - self.epsilon_min) * (\n",
    "                        np.exp(-1. * self.n_eps / self.decrease_epsilon_factor ) )\n",
    "    \n",
    "    def reset(self):              \n",
    "        self.buffer = ReplayBuffer(self.buffer_capacity)\n",
    "        if self.use_CNN:\n",
    "            self.q_net =  ModelCNN(42, output_size=7, n_hidden_layers=self.n_hidden_layers, hidden_dim=self.hidden_dim)\n",
    "            self.target_net = ModelCNN(42, output_size=7, n_hidden_layers=self.n_hidden_layers, hidden_dim=self.hidden_dim)\n",
    "        else:\n",
    "            self.q_net =  Model(42, output_size=7, n_hidden_layers=self.n_hidden_layers, hidden_dim=self.hidden_dim)\n",
    "            self.target_net = Model(42, output_size=7, n_hidden_layers=self.n_hidden_layers, hidden_dim=self.hidden_dim)\n",
    "\n",
    "        self.loss_function = torch.nn.MSELoss()\n",
    "        self.optimizer = torch.optim.Adam(params=self.q_net.parameters(), lr=self.learning_rate)\n",
    "        \n",
    "        self.epsilon = self.epsilon_start\n",
    "        self.n_steps = 0\n",
    "        self.n_eps = 0"
   ]
  },
  {
   "cell_type": "code",
   "execution_count": 14,
   "id": "8e6ca6ef",
   "metadata": {},
   "outputs": [],
   "source": [
    "def eval_agent(agent0, agent1, env, n_sim=5):\n",
    "    \"\"\"\n",
    "    ** Solution **\n",
    "    \n",
    "    Monte Carlo evaluation of DQN agent.\n",
    "\n",
    "    Repeat n_sim times:\n",
    "        * Run the DQN policy until the environment reaches a terminal state (= one episode)\n",
    "        * Compute the sum of rewards in this episode\n",
    "        * Store the sum of rewards in the episode_rewards array.\n",
    "    \"\"\"\n",
    "    episode_rewards = np.zeros(n_sim)\n",
    "    for i in range(n_sim):\n",
    "        env.reset()\n",
    "        state, _, _, _, _ = env.last()\n",
    "        reward_sum = 0\n",
    "        done = False\n",
    "        while not done: \n",
    "            action = agent0.get_action(state, epsilon=0)\n",
    "            env.step(action)\n",
    "            state, reward, terminated, truncated, info = env.last()\n",
    "            reward_sum += reward\n",
    "            done = terminated or truncated\n",
    "\n",
    "            if done:\n",
    "                break\n",
    "\n",
    "            action = agent1.get_action(state)\n",
    "            env.step(action)\n",
    "            state, reward, terminated, truncated, info = env.last()\n",
    "            done = terminated or truncated\n",
    "\n",
    "        episode_rewards[i] = reward_sum\n",
    "    return episode_rewards"
   ]
  },
  {
   "cell_type": "code",
   "execution_count": 15,
   "id": "b55083db",
   "metadata": {},
   "outputs": [],
   "source": [
    "def train(env, agent0, agent1, N_episodes, eval_every=10, reward_threshold=0.999, verbose=True, dual=False):\n",
    "    \"\"\"The first agent is the one we want to train\"\"\"\n",
    "    losses = []\n",
    "    max_reward=0\n",
    "    for ep in range(N_episodes):\n",
    "        done = False\n",
    "        env.reset()\n",
    "        state, _, _, _, _ = env.last()\n",
    "        while not done: \n",
    "            for i, agent in enumerate([agent0, agent1]):\n",
    "                next_state, reward, terminated, truncated, info = env.last()\n",
    "                done = terminated or truncated\n",
    "\n",
    "                if done:\n",
    "                    break \n",
    "                \n",
    "                action = agent.get_action(next_state)\n",
    "                env.step(action)\n",
    "                if dual or i==0:\n",
    "                    loss_val = agent.update(state, action, reward, terminated, next_state)\n",
    "                    losses.append(loss_val)\n",
    "                state = next_state      \n",
    "\n",
    "        if ((ep+1)% eval_every == 0):\n",
    "            rewards = eval_agent(agent0, agent1, env, n_sim=100)\n",
    "            if verbose:\n",
    "                print(f\"episode = {ep+1}, reward = {np.mean(rewards):.2f}\", end='\\r')\n",
    "            if np.mean(rewards) > max_reward:\n",
    "                max_reward = np.mean(rewards)\n",
    "            if np.mean(rewards) >= reward_threshold:\n",
    "                break\n",
    "    print(f\"Max reward during training: {max_reward}\")\n",
    "    return losses, max_reward"
   ]
  },
  {
   "cell_type": "code",
   "execution_count": 16,
   "id": "6c3ea073",
   "metadata": {},
   "outputs": [],
   "source": [
    "action_space = env.action_space\n",
    "observation_space = env.observation_space\n",
    "\n",
    "N_episodes = 1000\n",
    "\n",
    "gamma = 0.95\n",
    "batch_size = 8\n",
    "buffer_capacity = 100\n",
    "\n",
    "epsilon_start = 0.9\n",
    "decrease_epsilon_factor = 1000\n",
    "epsilon_min = 0.05\n",
    "\n",
    "learning_rate = 1e-2\n",
    "\n",
    "list_update_target_every = [2**i for i in range(3, 6)]\n",
    "list_n_hidden_layers = [i for i in range(4)]\n",
    "list_hidden_dim = [16, 32, 64]\n"
   ]
  },
  {
   "cell_type": "code",
   "execution_count": null,
   "id": "730abeed",
   "metadata": {},
   "outputs": [],
   "source": [
    "random_agent = RandomPlayer()\n",
    "results = {}\n",
    "for update_target_every in list_update_target_every:\n",
    "    for n_hidden_layers in list_n_hidden_layers:\n",
    "        for hidden_dim in list_hidden_dim[:1]:\n",
    "            DQN_agent = NotDumbAgent(action_space, observation_space, gamma, batch_size, buffer_capacity, update_target_every, epsilon_start, decrease_epsilon_factor, epsilon_min, learning_rate, \"Dumbo\", n_hidden_layers=n_hidden_layers, hidden_dim=hidden_dim)\n",
    "            train_losses, max_reward = train(env, DQN_agent, random_agent, N_episodes=N_episodes, eval_every=50)\n",
    "            results[(update_target_every, n_hidden_layers, hidden_dim)] = max_reward"
   ]
  },
  {
   "cell_type": "code",
   "execution_count": null,
   "id": "30ac4514",
   "metadata": {},
   "outputs": [],
   "source": [
    "print(results)\n",
    "print(sorted(results.items(), key=lambda x:x[1], reverse=True))"
   ]
  },
  {
   "cell_type": "code",
   "execution_count": 39,
   "id": "7e4be3d2",
   "metadata": {},
   "outputs": [
    {
     "data": {
      "image/png": "[encoded data removed]",
      "text/plain": [
       "<Figure size 640x480 with 1 Axes>"
      ]
     },
     "metadata": {},
     "output_type": "display_data"
    },
    {
     "name": "stdout",
     "output_type": "stream",
     "text": [
      "Player 1: Dumbo 2 le retour won\n",
      "[[ 0  0  0  0  0  0  0]\n",
      " [ 0  0  0 -1  0  0  0]\n",
      " [ 0  1  0 -1  0  0  0]\n",
      " [ 0  1  0 -1  0  0  0]\n",
      " [ 0  1  0  1 -1  0  0]\n",
      " [-1  1  0 -1  1  0  0]]\n"
     ]
    },
    {
     "data": {
      "text/plain": [
       "1"
      ]
     },
     "execution_count": 39,
     "metadata": {},
     "output_type": "execute_result"
    }
   ],
   "source": [
    "play_game(env, DQN_agent, random_agent, display=True)"
   ]
  },
  {
   "cell_type": "code",
   "execution_count": null,
   "id": "ba01de05",
   "metadata": {},
   "outputs": [],
   "source": [
    "random_agent = RandomPlayer()\n",
    "results = {}\n",
    "for update_target_every in list_update_target_every:\n",
    "    for n_hidden_layers in list_n_hidden_layers:\n",
    "        DQN_agent = NotDumbAgent(action_space, observation_space, gamma, batch_size, buffer_capacity, update_target_every, epsilon_start, decrease_epsilon_factor, epsilon_min, learning_rate, \"Dumbledore\", n_hidden_layers=n_hidden_layers, hidden_dim=16, use_CNN=True)\n",
    "        train_losses, max_reward = train(env, DQN_agent, random_agent, N_episodes=N_episodes, eval_every=50)\n",
    "        results[(update_target_every, n_hidden_layers, hidden_dim)] = max_reward\n",
    "print(results)"
   ]
  },
  {
   "cell_type": "code",
   "execution_count": null,
   "id": "a7f34683",
   "metadata": {},
   "outputs": [],
   "source": [
    "random_agent = RandomPlayer()\n",
    "\n",
    "for hidden_dim in list_hidden_dim:\n",
    "    DQN_agent = NotDumbAgent(action_space, observation_space, gamma, batch_size, buffer_capacity, 16, epsilon_start, decrease_epsilon_factor, epsilon_min, learning_rate, \"Dumbo\", n_hidden_layers=3, hidden_dim=hidden_dim, use_CNN=True)\n",
    "    print(\"hidden_dim = \", hidden_dim)\n",
    "    train(env, DQN_agent, random_agent, N_episodes=N_episodes, eval_every=50)"
   ]
  }
 ],
 "metadata": {
  "kernelspec": {
   "display_name": "Python 3 (ipykernel)",
   "language": "python",
   "name": "python3"
  },
  "language_info": {
   "codemirror_mode": {
    "name": "ipython",
    "version": 3
   },
   "file_extension": ".py",
   "mimetype": "text/x-python",
   "name": "python",
   "nbconvert_exporter": "python",
   "pygments_lexer": "ipython3",
   "version": "3.9.13"
  }
 },
 "nbformat": 4,
 "nbformat_minor": 5
}
